{
 "cells": [
  {
   "cell_type": "code",
   "execution_count": 1,
   "metadata": {
    "collapsed": false
   },
   "outputs": [
    {
     "data": {
      "text/plain": [
       "{'convicted_status': 'convicted_status',\n",
       " 'long_name': 'long_name',\n",
       " 'number': 'number',\n",
       " 'offense_category': 'offense_category',\n",
       " 'prison_type': 'prison_type',\n",
       " 'specific_offense': 'specific_offense'}"
      ]
     },
     "execution_count": 1,
     "metadata": {},
     "output_type": "execute_result"
    }
   ],
   "source": [
    "import csv\n",
    "names = ['prison_type','convicted_status','offense_category','specific_offense','number','long_name']\n",
    "f = open('app/javascript/data/data.csv', 'r')\n",
    "reader = csv.DictReader(f, fieldnames=names)\n",
    "data = [row for row in reader]\n",
    "data.pop(0)"
   ]
  },
  {
   "cell_type": "code",
   "execution_count": 2,
   "metadata": {
    "collapsed": false
   },
   "outputs": [
    {
     "data": {
      "text/html": [
       "<div>\n",
       "<table border=\"1\" class=\"dataframe\">\n",
       "  <thead>\n",
       "    <tr style=\"text-align: right;\">\n",
       "      <th></th>\n",
       "      <th>convicted_status</th>\n",
       "      <th>long_name</th>\n",
       "      <th>number</th>\n",
       "      <th>offense_category</th>\n",
       "      <th>prison_type</th>\n",
       "      <th>specific_offense</th>\n",
       "    </tr>\n",
       "  </thead>\n",
       "  <tbody>\n",
       "    <tr>\n",
       "      <th>count</th>\n",
       "      <td>122</td>\n",
       "      <td>122</td>\n",
       "      <td>122</td>\n",
       "      <td>122</td>\n",
       "      <td>122</td>\n",
       "      <td>122</td>\n",
       "    </tr>\n",
       "    <tr>\n",
       "      <th>unique</th>\n",
       "      <td>3</td>\n",
       "      <td>122</td>\n",
       "      <td>120</td>\n",
       "      <td>21</td>\n",
       "      <td>9</td>\n",
       "      <td>70</td>\n",
       "    </tr>\n",
       "    <tr>\n",
       "      <th>top</th>\n",
       "      <td></td>\n",
       "      <td>People held in military prisons for public ord...</td>\n",
       "      <td>3</td>\n",
       "      <td>Property</td>\n",
       "      <td>Local</td>\n",
       "      <td></td>\n",
       "    </tr>\n",
       "    <tr>\n",
       "      <th>freq</th>\n",
       "      <td>66</td>\n",
       "      <td>1</td>\n",
       "      <td>2</td>\n",
       "      <td>22</td>\n",
       "      <td>56</td>\n",
       "      <td>7</td>\n",
       "    </tr>\n",
       "  </tbody>\n",
       "</table>\n",
       "</div>"
      ],
      "text/plain": [
       "       convicted_status                                          long_name  \\\n",
       "count               122                                                122   \n",
       "unique                3                                                122   \n",
       "top                      People held in military prisons for public ord...   \n",
       "freq                 66                                                  1   \n",
       "\n",
       "       number offense_category prison_type specific_offense  \n",
       "count     122              122         122              122  \n",
       "unique    120               21           9               70  \n",
       "top         3         Property       Local                   \n",
       "freq        2               22          56                7  "
      ]
     },
     "execution_count": 2,
     "metadata": {},
     "output_type": "execute_result"
    }
   ],
   "source": [
    "import pandas\n",
    "\n",
    "incarcerated = pandas.DataFrame(data)\n",
    "incarcerated.describe()"
   ]
  },
  {
   "cell_type": "code",
   "execution_count": 3,
   "metadata": {
    "collapsed": false
   },
   "outputs": [
    {
     "data": {
      "text/plain": [
       "Local                    56\n",
       "Kids                     18\n",
       "State                    17\n",
       "Military                 16\n",
       "Federal                  11\n",
       "Civil Commitment          1\n",
       "Territorial prisons       1\n",
       "Immigration Detention     1\n",
       "Indian County jails       1\n",
       "Name: prison_type, dtype: int64"
      ]
     },
     "execution_count": 3,
     "metadata": {},
     "output_type": "execute_result"
    }
   ],
   "source": [
    "incarcerated['prison_type'].value_counts()"
   ]
  },
  {
   "cell_type": "code",
   "execution_count": 4,
   "metadata": {
    "collapsed": false
   },
   "outputs": [
    {
     "data": {
      "text/plain": [
       "                 66\n",
       "Not convicted    28\n",
       "Convicted        28\n",
       "Name: convicted_status, dtype: int64"
      ]
     },
     "execution_count": 4,
     "metadata": {},
     "output_type": "execute_result"
    }
   ],
   "source": [
    "incarcerated['convicted_status'].value_counts()"
   ]
  },
  {
   "cell_type": "code",
   "execution_count": 5,
   "metadata": {
    "collapsed": false
   },
   "outputs": [
    {
     "data": {
      "text/plain": [
       "property             32\n",
       "violent              31\n",
       "public order         25\n",
       "drugs                10\n",
       "other                 6\n",
       "person                6\n",
       "drug                  4\n",
       "                      4\n",
       "status offense        1\n",
       "military offenses     1\n",
       "technical             1\n",
       "sexual                1\n",
       "Name: offense_category, dtype: int64"
      ]
     },
     "execution_count": 5,
     "metadata": {},
     "output_type": "execute_result"
    }
   ],
   "source": [
    "incarcerated['offense_category'] = incarcerated['offense_category'].str.strip().str.lower().str.replace('other/unspecified', 'other')\n",
    "incarcerated['offense_category'].value_counts()"
   ]
  },
  {
   "cell_type": "code",
   "execution_count": 6,
   "metadata": {
    "collapsed": false
   },
   "outputs": [
    {
     "data": {
      "text/html": [
       "<div>\n",
       "<table border=\"1\" class=\"dataframe\">\n",
       "  <thead>\n",
       "    <tr style=\"text-align: right;\">\n",
       "      <th></th>\n",
       "      <th>convicted_status</th>\n",
       "      <th>long_name</th>\n",
       "      <th>number</th>\n",
       "      <th>offense_category</th>\n",
       "      <th>prison_type</th>\n",
       "      <th>specific_offense</th>\n",
       "    </tr>\n",
       "  </thead>\n",
       "  <tbody>\n",
       "    <tr>\n",
       "      <th>44</th>\n",
       "      <td></td>\n",
       "      <td>People held by immigration authories in their ...</td>\n",
       "      <td>32,805</td>\n",
       "      <td></td>\n",
       "      <td>Immigration Detention</td>\n",
       "      <td>Immigration</td>\n",
       "    </tr>\n",
       "    <tr>\n",
       "      <th>45</th>\n",
       "      <td></td>\n",
       "      <td>People held in jails run by tribal authorities.</td>\n",
       "      <td>2,400</td>\n",
       "      <td></td>\n",
       "      <td>Indian County jails</td>\n",
       "      <td>Indian County jails</td>\n",
       "    </tr>\n",
       "    <tr>\n",
       "      <th>46</th>\n",
       "      <td></td>\n",
       "      <td>People who have been civilly committed after c...</td>\n",
       "      <td>5,487</td>\n",
       "      <td></td>\n",
       "      <td>Civil Commitment</td>\n",
       "      <td>Civil Commitment</td>\n",
       "    </tr>\n",
       "    <tr>\n",
       "      <th>47</th>\n",
       "      <td></td>\n",
       "      <td>People held in prisons and jails in the U.S. t...</td>\n",
       "      <td>14,000</td>\n",
       "      <td></td>\n",
       "      <td>Territorial prisons</td>\n",
       "      <td>Territorial prisons</td>\n",
       "    </tr>\n",
       "  </tbody>\n",
       "</table>\n",
       "</div>"
      ],
      "text/plain": [
       "   convicted_status                                          long_name  \\\n",
       "44                   People held by immigration authories in their ...   \n",
       "45                     People held in jails run by tribal authorities.   \n",
       "46                   People who have been civilly committed after c...   \n",
       "47                   People held in prisons and jails in the U.S. t...   \n",
       "\n",
       "    number offense_category            prison_type     specific_offense  \n",
       "44  32,805                   Immigration Detention          Immigration  \n",
       "45   2,400                     Indian County jails  Indian County jails  \n",
       "46   5,487                        Civil Commitment     Civil Commitment  \n",
       "47  14,000                     Territorial prisons  Territorial prisons  "
      ]
     },
     "execution_count": 6,
     "metadata": {},
     "output_type": "execute_result"
    }
   ],
   "source": [
    "incarcerated[incarcerated['offense_category'] == '']"
   ]
  },
  {
   "cell_type": "markdown",
   "metadata": {},
   "source": [
    "These are the outlier prison types where we don't have good data on the offense category (although Immigration Detention is almost certainly immigration related.)"
   ]
  },
  {
   "cell_type": "code",
   "execution_count": 7,
   "metadata": {
    "collapsed": false
   },
   "outputs": [
    {
     "data": {
      "text/plain": [
       "                                                  7\n",
       "Weapons                                           4\n",
       "Other property                                    4\n",
       "Murder                                            4\n",
       "Burglary                                          4\n",
       "Robbery                                           4\n",
       "Other violent                                     4\n",
       "Fraud                                             4\n",
       "Drug possession                                   3\n",
       "Other public order                                3\n",
       "Larceny-theft                                     3\n",
       "Driving While Intoxicated                         2\n",
       "Immigration                                       2\n",
       "Stolen property                                   2\n",
       "Drug other                                        2\n",
       "Violation of parole/probation                     2\n",
       "Other                                             2\n",
       "Drunkenness/morals                                2\n",
       "Immigration violations                            2\n",
       "Possession with intent                            2\n",
       "Negligent manslaughter                            2\n",
       "Kidnapping                                        2\n",
       "Other sexual assault                              2\n",
       "Car theft                                         2\n",
       "Assault                                           2\n",
       "Drug trafficking                                  2\n",
       "Arson                                             2\n",
       "Rape                                              2\n",
       "Traffic                                           2\n",
       "Obstruction of Justice                            2\n",
       "                                                 ..\n",
       "technical violation                               1\n",
       "Robbery                                           1\n",
       "other property                                    1\n",
       "Aggravated or simple assault                      1\n",
       "Aggravated/simple assault                         1\n",
       "Motor vehicle theft                               1\n",
       "Larceny-theft                                     1\n",
       "other person                                      1\n",
       "Nonviolent                                        1\n",
       "Civil Commitment                                  1\n",
       "burglary                                          1\n",
       "Homicide                                          1\n",
       "weapons                                           1\n",
       "Fraud                                             1\n",
       "robbery                                           1\n",
       "other residents (21+ or people awaiting trial)    1\n",
       "Other property                                    1\n",
       "Territorial prisons                               1\n",
       "Other/unspecified                                 1\n",
       "Manslaughter                                      1\n",
       "Sexual                                            1\n",
       "aggravated assault                                1\n",
       "drug trafficking                                  1\n",
       "other drug                                        1\n",
       "Motor vehicle theft                               1\n",
       "arson                                             1\n",
       "other public order                                1\n",
       "Rape/sexual assault                               1\n",
       "Other drug                                        1\n",
       "theft                                             1\n",
       "Name: specific_offense, dtype: int64"
      ]
     },
     "execution_count": 7,
     "metadata": {},
     "output_type": "execute_result"
    }
   ],
   "source": [
    "incarcerated['specific_offense'].value_counts()"
   ]
  },
  {
   "cell_type": "markdown",
   "metadata": {},
   "source": [
    "These look too varied to be immediately useful, going to defer cleaning them for now."
   ]
  },
  {
   "cell_type": "code",
   "execution_count": 8,
   "metadata": {
    "collapsed": true
   },
   "outputs": [],
   "source": [
    "incarcerated.to_csv(path_or_buf='./app/javascript/data/cleaned.csv', index_label='key')"
   ]
  },
  {
   "cell_type": "code",
   "execution_count": null,
   "metadata": {
    "collapsed": true
   },
   "outputs": [],
   "source": []
  }
 ],
 "metadata": {
  "kernelspec": {
   "display_name": "Python 3",
   "language": "python",
   "name": "python3"
  },
  "language_info": {
   "codemirror_mode": {
    "name": "ipython",
    "version": 3
   },
   "file_extension": ".py",
   "mimetype": "text/x-python",
   "name": "python",
   "nbconvert_exporter": "python",
   "pygments_lexer": "ipython3",
   "version": "3.5.1"
  }
 },
 "nbformat": 4,
 "nbformat_minor": 0
}
